{
  "nbformat": 4,
  "nbformat_minor": 0,
  "metadata": {
    "colab": {
      "provenance": []
    },
    "kernelspec": {
      "name": "python3",
      "display_name": "Python 3"
    },
    "language_info": {
      "name": "python"
    }
  },
  "cells": [
    {
      "cell_type": "markdown",
      "source": [
        "<b> Principal Component Analysis</b>\n",
        "<table style=\"width:50%\">\n",
        "<tr>\n",
        "  <th>Mouse</th>\n",
        "  <th>Gene1</th>\n",
        "  <th>Gene2</th>\n",
        "  <th>Gene3</th>\n",
        "  <th>Gene4</th>\n",
        "</tr>\n",
        "<tr>\n",
        "  <th>1</th>\n",
        "  <th>10</th>\n",
        "  <th>6</th>\n",
        "  <th>1.2</th>\n",
        "  <th>5</th>\n",
        "</tr>\n",
        "<tr>\n",
        "  <th>2</th>\n",
        "  <th>11</th>\n",
        "  <th>4</th>\n",
        "  <th>9</th>\n",
        "  <th>7</th>\n",
        "</tr>\n",
        "<tr>\n",
        "  <th>3</th>\n",
        "  <th>8</th>\n",
        "  <th>5</th>\n",
        "  <th>10</th>\n",
        "  <th>6</th>\n",
        "</tr>\n",
        "<tr>\n",
        "  <th>4</th>\n",
        "  <th>3</th>\n",
        "  <th>3</th>\n",
        "  <th>2.5</th>\n",
        "  <th>2</th>\n",
        "</tr>\n",
        "<tr>\n",
        "  <th>5</th>\n",
        "  <th>1</th>\n",
        "  <th>2.8</th>\n",
        "  <th>1.3</th>\n",
        "  <th>4</th>\n",
        "</tr>\n",
        "<tr>\n",
        "  <th>6</th>\n",
        "  <th>2</th>\n",
        "  <th>1</th>\n",
        "  <th>2</th>\n",
        "  <th>7</th>\n",
        "</tr>\n",
        "</table>"
      ],
      "metadata": {
        "id": "QQhMB6pEN5c5"
      }
    },
    {
      "cell_type": "code",
      "execution_count": null,
      "metadata": {
        "colab": {
          "base_uri": "https://localhost:8080/",
          "height": 448
        },
        "id": "S7aW2fjUNxEn",
        "outputId": "1545bd7a-55dd-4789-ac5a-3d2637a2f671"
      },
      "outputs": [
        {
          "output_type": "execute_result",
          "data": {
            "text/plain": [
              "[<matplotlib.lines.Line2D at 0x792f7c0cfeb0>]"
            ]
          },
          "metadata": {},
          "execution_count": 37
        },
        {
          "output_type": "display_data",
          "data": {
            "text/plain": [
              "<Figure size 640x480 with 1 Axes>"
            ],
            "image/png": "[encoded data removed]"
          },
          "metadata": {}
        }
      ],
      "source": [
        "import matplotlib.pyplot as plt\n",
        "import numpy as np\n",
        "gene1 = [10,11,8,3,1,2]\n",
        "y_values = [0,0,0,0,0,0]\n",
        "plt.plot(gene1,np.zeros_like(gene1)+y_values, 'x')\n"
      ]
    },
    {
      "cell_type": "code",
      "source": [
        "gene2 = [6,4,5,3,2.8,1]\n",
        "gene3 =[1.2,9,10,2.5,1.3,2]\n",
        "gene4 = [5,7,6,2,4,7]"
      ],
      "metadata": {
        "id": "7zRW40HSVNHw"
      },
      "execution_count": null,
      "outputs": []
    },
    {
      "cell_type": "markdown",
      "source": [
        "<ul>\n",
        "  <li> PCA can tell us which gene or variable is the most valuable for clustering data</li>\n",
        "  <li> For example, PCA could tell us that gene3 is responsible for separating samples along the X-axis</li>\n",
        "</ul>\n"
      ],
      "metadata": {
        "id": "RIx6QAarW2Ze"
      }
    },
    {
      "cell_type": "markdown",
      "source": [
        "To understand PCA we will consider the dataset with only two genes."
      ],
      "metadata": {
        "id": "LQn8TV2gXRLx"
      }
    },
    {
      "cell_type": "code",
      "source": [
        "plt.scatter(gene1,gene2)\n",
        "plt.title(\"Gene1 vs Gene2\")\n",
        "plt.xlabel(\"Gene1\")\n",
        "plt.ylabel(\"Gene2\")\n",
        "gene1_average = np.average(gene1)\n",
        "gene2_average = np.average(gene2)\n",
        "plt.plot(gene1_average,gene2_average, 'x',)\n",
        "plt.show"
      ],
      "metadata": {
        "colab": {
          "base_uri": "https://localhost:8080/",
          "height": 641
        },
        "id": "mfePVFjMXaos",
        "outputId": "55feeb82-d4bc-4be5-c6ef-6569b6b5065e"
      },
      "execution_count": null,
      "outputs": [
        {
          "output_type": "execute_result",
          "data": {
            "text/plain": [
              "<function matplotlib.pyplot.show(close=None, block=None)>"
            ],
            "text/html": [
              "<div style=\"max-width:800px; border: 1px solid var(--colab-border-color);\"><style>\n",
              "      pre.function-repr-contents {\n",
              "        overflow-x: auto;\n",
              "        padding: 8px 12px;\n",
              "        max-height: 500px;\n",
              "      }\n",
              "\n",
              "      pre.function-repr-contents.function-repr-contents-collapsed {\n",
              "        cursor: pointer;\n",
              "        max-height: 100px;\n",
              "      }\n",
              "    </style>\n",
              "    <pre style=\"white-space: initial; background:\n",
              "         var(--colab-secondary-surface-color); padding: 8px 12px;\n",
              "         border-bottom: 1px solid var(--colab-border-color);\"><b>matplotlib.pyplot.show</b><br/>def show(*args, **kwargs)</pre><pre class=\"function-repr-contents function-repr-contents-collapsed\" style=\"\"><a class=\"filepath\" style=\"display:none\" href=\"#\">/usr/local/lib/python3.10/dist-packages/matplotlib/pyplot.py</a>Display all open figures.\n",
              "\n",
              "Parameters\n",
              "----------\n",
              "block : bool, optional\n",
              "    Whether to wait for all figures to be closed before returning.\n",
              "\n",
              "    If `True` block and run the GUI main loop until all figure windows\n",
              "    are closed.\n",
              "\n",
              "    If `False` ensure that all figure windows are displayed and return\n",
              "    immediately.  In this case, you are responsible for ensuring\n",
              "    that the event loop is running to have responsive figures.\n",
              "\n",
              "    Defaults to True in non-interactive mode and to False in interactive\n",
              "    mode (see `.pyplot.isinteractive`).\n",
              "\n",
              "See Also\n",
              "--------\n",
              "ion : Enable interactive mode, which shows / updates the figure after\n",
              "      every plotting command, so that calling ``show()`` is not necessary.\n",
              "ioff : Disable interactive mode.\n",
              "savefig : Save the figure to an image file instead of showing it on screen.\n",
              "\n",
              "Notes\n",
              "-----\n",
              "**Saving figures to file and showing a window at the same time**\n",
              "\n",
              "If you want an image file as well as a user interface window, use\n",
              "`.pyplot.savefig` before `.pyplot.show`. At the end of (a blocking)\n",
              "``show()`` the figure is closed and thus unregistered from pyplot. Calling\n",
              "`.pyplot.savefig` afterwards would save a new and thus empty figure. This\n",
              "limitation of command order does not apply if the show is non-blocking or\n",
              "if you keep a reference to the figure and use `.Figure.savefig`.\n",
              "\n",
              "**Auto-show in jupyter notebooks**\n",
              "\n",
              "The jupyter backends (activated via ``%matplotlib inline``,\n",
              "``%matplotlib notebook``, or ``%matplotlib widget``), call ``show()`` at\n",
              "the end of every cell by default. Thus, you usually don&#x27;t have to call it\n",
              "explicitly there.</pre>\n",
              "      <script>\n",
              "      if (google.colab.kernel.accessAllowed && google.colab.files && google.colab.files.view) {\n",
              "        for (const element of document.querySelectorAll('.filepath')) {\n",
              "          element.style.display = 'block'\n",
              "          element.onclick = (event) => {\n",
              "            event.preventDefault();\n",
              "            event.stopPropagation();\n",
              "            google.colab.files.view(element.textContent, 401);\n",
              "          };\n",
              "        }\n",
              "      }\n",
              "      for (const element of document.querySelectorAll('.function-repr-contents')) {\n",
              "        element.onclick = (event) => {\n",
              "          event.preventDefault();\n",
              "          event.stopPropagation();\n",
              "          element.classList.toggle('function-repr-contents-collapsed');\n",
              "        };\n",
              "      }\n",
              "      </script>\n",
              "      </div>"
            ]
          },
          "metadata": {},
          "execution_count": 39
        },
        {
          "output_type": "display_data",
          "data": {
            "text/plain": [
              "<Figure size 640x480 with 1 Axes>"
            ],
            "image/png": "[encoded data removed]"
          },
          "metadata": {}
        }
      ]
    },
    {
      "cell_type": "markdown",
      "source": [
        "<ul>\n",
        "<li> Next calculate the average measurement for <b>Gene1</b> and the average measurement for <b>Gene2</b></li>\n",
        "<li> With the average values we can calculate the centre of the data</li>\n",
        "<li> From this point, we will focus on what happens in the graph, we no longer need the original data</li>\n",
        "<li> We will shift the data so that the center is at the origin</li>\n",
        "</ul>"
      ],
      "metadata": {
        "id": "Ei1l4YMQXu7t"
      }
    },
    {
      "cell_type": "code",
      "source": [
        "gene1 = gene1 - gene1_average\n",
        "gene2 = gene2 - gene2_average\n",
        "print(gene1)\n",
        "print(gene2)"
      ],
      "metadata": {
        "colab": {
          "base_uri": "https://localhost:8080/"
        },
        "id": "ZmewsQ1gX6Dn",
        "outputId": "954573d2-f4e5-44d9-83a2-0e4794fa347d"
      },
      "execution_count": null,
      "outputs": [
        {
          "output_type": "stream",
          "name": "stdout",
          "text": [
            "[ 4.16666667  5.16666667  2.16666667 -2.83333333 -4.83333333 -3.83333333]\n",
            "[ 2.36666667  0.36666667  1.36666667 -0.63333333 -0.83333333 -2.63333333]\n"
          ]
        }
      ]
    },
    {
      "cell_type": "code",
      "source": [
        "plt.scatter(gene1,gene2)\n",
        "plt.title(\"Gene1 vs Gene2\")\n",
        "plt.xlabel(\"Gene1\")\n",
        "plt.ylabel(\"Gene2\")\n",
        "plt.plot(gene1_average,gene2_average, 'x',)\n",
        "plt.show"
      ],
      "metadata": {
        "colab": {
          "base_uri": "https://localhost:8080/",
          "height": 641
        },
        "id": "OtvYFxxwZlpE",
        "outputId": "b1d77e8c-d14b-4888-c8a6-611d9d8816f0"
      },
      "execution_count": null,
      "outputs": [
        {
          "output_type": "execute_result",
          "data": {
            "text/plain": [
              "<function matplotlib.pyplot.show(close=None, block=None)>"
            ],
            "text/html": [
              "<div style=\"max-width:800px; border: 1px solid var(--colab-border-color);\"><style>\n",
              "      pre.function-repr-contents {\n",
              "        overflow-x: auto;\n",
              "        padding: 8px 12px;\n",
              "        max-height: 500px;\n",
              "      }\n",
              "\n",
              "      pre.function-repr-contents.function-repr-contents-collapsed {\n",
              "        cursor: pointer;\n",
              "        max-height: 100px;\n",
              "      }\n",
              "    </style>\n",
              "    <pre style=\"white-space: initial; background:\n",
              "         var(--colab-secondary-surface-color); padding: 8px 12px;\n",
              "         border-bottom: 1px solid var(--colab-border-color);\"><b>matplotlib.pyplot.show</b><br/>def show(*args, **kwargs)</pre><pre class=\"function-repr-contents function-repr-contents-collapsed\" style=\"\"><a class=\"filepath\" style=\"display:none\" href=\"#\">/usr/local/lib/python3.10/dist-packages/matplotlib/pyplot.py</a>Display all open figures.\n",
              "\n",
              "Parameters\n",
              "----------\n",
              "block : bool, optional\n",
              "    Whether to wait for all figures to be closed before returning.\n",
              "\n",
              "    If `True` block and run the GUI main loop until all figure windows\n",
              "    are closed.\n",
              "\n",
              "    If `False` ensure that all figure windows are displayed and return\n",
              "    immediately.  In this case, you are responsible for ensuring\n",
              "    that the event loop is running to have responsive figures.\n",
              "\n",
              "    Defaults to True in non-interactive mode and to False in interactive\n",
              "    mode (see `.pyplot.isinteractive`).\n",
              "\n",
              "See Also\n",
              "--------\n",
              "ion : Enable interactive mode, which shows / updates the figure after\n",
              "      every plotting command, so that calling ``show()`` is not necessary.\n",
              "ioff : Disable interactive mode.\n",
              "savefig : Save the figure to an image file instead of showing it on screen.\n",
              "\n",
              "Notes\n",
              "-----\n",
              "**Saving figures to file and showing a window at the same time**\n",
              "\n",
              "If you want an image file as well as a user interface window, use\n",
              "`.pyplot.savefig` before `.pyplot.show`. At the end of (a blocking)\n",
              "``show()`` the figure is closed and thus unregistered from pyplot. Calling\n",
              "`.pyplot.savefig` afterwards would save a new and thus empty figure. This\n",
              "limitation of command order does not apply if the show is non-blocking or\n",
              "if you keep a reference to the figure and use `.Figure.savefig`.\n",
              "\n",
              "**Auto-show in jupyter notebooks**\n",
              "\n",
              "The jupyter backends (activated via ``%matplotlib inline``,\n",
              "``%matplotlib notebook``, or ``%matplotlib widget``), call ``show()`` at\n",
              "the end of every cell by default. Thus, you usually don&#x27;t have to call it\n",
              "explicitly there.</pre>\n",
              "      <script>\n",
              "      if (google.colab.kernel.accessAllowed && google.colab.files && google.colab.files.view) {\n",
              "        for (const element of document.querySelectorAll('.filepath')) {\n",
              "          element.style.display = 'block'\n",
              "          element.onclick = (event) => {\n",
              "            event.preventDefault();\n",
              "            event.stopPropagation();\n",
              "            google.colab.files.view(element.textContent, 401);\n",
              "          };\n",
              "        }\n",
              "      }\n",
              "      for (const element of document.querySelectorAll('.function-repr-contents')) {\n",
              "        element.onclick = (event) => {\n",
              "          event.preventDefault();\n",
              "          event.stopPropagation();\n",
              "          element.classList.toggle('function-repr-contents-collapsed');\n",
              "        };\n",
              "      }\n",
              "      </script>\n",
              "      </div>"
            ]
          },
          "metadata": {},
          "execution_count": 41
        },
        {
          "output_type": "display_data",
          "data": {
            "text/plain": [
              "<Figure size 640x480 with 1 Axes>"
            ],
            "image/png": "[encoded data removed]"
          },
          "metadata": {}
        }
      ]
    },
    {
      "cell_type": "markdown",
      "source": [
        "<ul>\n",
        "  <li> Shifting the data did not change how the data points are positioned relative to each other</li>\n",
        "  <li> Now that the data is centered at the originwe can try to fit a line to it</li>\n",
        "  <li>Start with a random line through the origin and rotate until it fits as good as possible </li>\n",
        "\n",
        "  <li> We need to talk about how PCA decides if a fit is good or not </li>\n",
        "  <li> Consider the starting random line through the original </li>\n",
        "  <li> We want to quantify how good this line fits the data, PCA project the data onto it and then can either measure the distances from the data to the line and try to find the line that minimizes those distances</li>\n",
        "<li> It can try to find the line that maximises the distances from the projected points to the origin </li>\n",
        "<li> $a^2 = b^2$ since $a$ is fixed as $b$ gets bigger $c$ must get smaller and vice versa</li>\n",
        "<li> PCA can either minimise $b$ or maximise $c$ </li>\n",
        "<li> Intuitively it is more obvious to minimize $b$... But is much easier to calculate $c$, the distance from the projected point to the origin, so PCA funds the best line by maximising the sum of squared distances from the projected points to the origin </li>\n",
        "<li> Rotate the line to find the largest SS(Distances) </li>\n",
        "<li> This line is called Principal Component 1 or PC1 for short </li>\n",
        "\n",
        "</ul>"
      ],
      "metadata": {
        "id": "yPv4gREkaYFe"
      }
    },
    {
      "cell_type": "code",
      "source": [
        "from scipy import stats\n",
        "slope, intercept, _, _, _ = stats.linregress(gene1,gene2)\n",
        "print(slope)\n",
        "print(intercept)"
      ],
      "metadata": {
        "id": "NLUmDgyGbQjS",
        "colab": {
          "base_uri": "https://localhost:8080/"
        },
        "outputId": "188a5846-fac0-4c0e-eb6a-6186d6620b84"
      },
      "execution_count": null,
      "outputs": [
        {
          "output_type": "stream",
          "name": "stdout",
          "text": [
            "0.32302284710017576\n",
            "-1.6964884226316686e-16\n"
          ]
        }
      ]
    },
    {
      "cell_type": "markdown",
      "source": [
        "<ul>\n",
        "<li> PC1 has a slope of $\\frac{1}{3}$. In other words for every 3 units that we go along the gene1 axis we go up 1 unite in the gene2 axis.</li>\n",
        "<li>This means that the data is mostly spread out along the gene1 axis.. and only a little bit spread out along the gene2 axis</li>\n",
        "<li> To make PC1 mix 3 parts gene1 and 1 part gene2</li>\n",
        "<li> The ratio of gene1 to gene2 tells you that gene1 is much more imporant when it comes to describing how the data is spread out</li>\n",
        "<li> PC1 is a linear combination of gene1 and gene2</li>\n",
        "<li> When you do PCA with Singular Value Decomposition (SVD) the recipe for PC1 is scaled so that its length is 1 </li>\n",
        "<li>$PC1 = \\frac{3}{\\sqrt(10)}gene1 + \\frac{1}{\\sqrt(10)}gene2$</li>\n",
        "</ul>"
      ],
      "metadata": {
        "id": "HjsdyMjl_QOZ"
      }
    },
    {
      "cell_type": "markdown",
      "source": [
        "<ul>\n",
        "<li> The unit vector is called the Singular vector of the eigenvector for PC1</li>\n",
        "<li> The proportions of each gene are called \"Loading Scores\"</li>\n",
        "<li> PCA calls the average of the SS(distances) for the best fit line the eigenvalue for PC1</li>\n",
        "<li> $\\frac{SS(Distances for PC1)}{n-1} = Eigenvalue for PC1$</li>\n",
        "<li>$\\sqrt(SS(Distances for PC1)) = Singular value for PC1$</li>"
      ],
      "metadata": {
        "id": "EvwGNunlB7vm"
      }
    },
    {
      "cell_type": "markdown",
      "source": [
        "<ul>\n",
        "<li> Because this is only 2D, PC2 is just the line through the origin that is perpendicular to PC1</li>\n",
        "<li> $PC2 = -1gene1 + 3gene2$</li>\n",
        "<li> Scale to unit vector would give $PC2 =  \\frac{-1}{\\sqrt(10)}gene1 + \\frac{3}{\\sqrt(10)}gene2$</li>\n",
        "<li> For PC2 gene2 is 3 times as important as gene1</li>\n",
        "<li> To draw the final PCA plot rotate everything so that PC1 is horizontal. Then see where the points end up</li>\n",
        "<li> Eigenvalues are measures of variation </li>\n",
        "<li> Suppose the variaton for PC1 was 15 and PC2 was 3. Total variation is 18</li>\n",
        "<li> This means PC1 explains 15\\18 or 83% of the variance </li>\n",
        "<li> A scree plot is a graphical representation of the percentages of variation that each principal component account for</li>\n",
        "</ul>\n"
      ],
      "metadata": {
        "id": "DLwQg6pfDouf"
      }
    },
    {
      "cell_type": "markdown",
      "source": [
        "<b> PCA with 3 variables </b>\n",
        "<ul>\n",
        "<li> center the data </li>\n",
        "<li> Find the line of best fit that goes through the origin - PC1 </li>\n",
        "<li> $PC1 = 0.62gene1 + 0.15gene2 + 0.77gene3$ </li>\n",
        "<li> PC2 is the next best fitting line that goes through the origin and it at right angle to PC1 </li>\n",
        "<li> $PC2 = 0.77gene1 + 0.62gene2 + 0.15gene3$</li>\n",
        "<li> PC3 is the best fitting line through the origin is at right angles to PC1 and PC2</li>\n",
        "</ul>\n"
      ],
      "metadata": {
        "id": "XqfzbSajIJHO"
      }
    },
    {
      "cell_type": "markdown",
      "source": [
        "<ul>\n",
        "<li> In there , there is one PC per gene or (variable) but in practice the number of principal components is either the number of variables or number of samples, whichever is smaller</li>\n",
        "<li> Once we have all the PCs, you can use the Eigenvalues to determine the proportion of variation that PC accounts for</li>\n",
        "<li> Suppose that PC1 accounts for 79% of the variation , PC2 accounts for 15% of the variation, PC3 6%. </li>\n",
        "<li> PC1 and PC2 account for most of the variation. A 2D graph using just PC1 and PC2 would be a good approximation </li>"
      ],
      "metadata": {
        "id": "QKo8RwZwJSct"
      }
    },
    {
      "cell_type": "code",
      "source": [
        "import pandas as pd\n",
        "import numpy as np\n",
        "import random as rnd\n",
        "from sklearn.decomposition import PCA\n",
        "from sklearn import preprocessing\n",
        "import matplotlib.pyplot as plt\n"
      ],
      "metadata": {
        "id": "xLEXjwWIKhg4"
      },
      "execution_count": null,
      "outputs": []
    },
    {
      "cell_type": "code",
      "source": [
        "genes = ['gene'+str(i) for i in range(1,101)]\n",
        "wt = ['wt'+str(i) for i in range(1,6)]\n",
        "ko = ['ko'+str(i) for i in range(1,6)]\n"
      ],
      "metadata": {
        "id": "I8ZT7aLaLWCb"
      },
      "execution_count": null,
      "outputs": []
    },
    {
      "cell_type": "code",
      "source": [
        "data = pd.DataFrame(columns=[*wt, *ko],index=genes)\n",
        "for gene in data.index:\n",
        "    data.loc[gene, 'wt1':'wt5'] = np.random.poisson(lam=rnd.randrange(10,1000), size=5)\n",
        "    data.loc[gene, 'ko1':'ko5'] = np.random.poisson(lam=rnd.randrange(10,1000), size=5)"
      ],
      "metadata": {
        "id": "9pgGhnXZLpmR"
      },
      "execution_count": null,
      "outputs": []
    },
    {
      "cell_type": "code",
      "source": [
        "data.head()"
      ],
      "metadata": {
        "colab": {
          "base_uri": "https://localhost:8080/",
          "height": 206
        },
        "id": "df32BhXFL_xR",
        "outputId": "653c3505-ab63-4ce4-b836-f53fa1467159"
      },
      "execution_count": null,
      "outputs": [
        {
          "output_type": "execute_result",
          "data": {
            "text/plain": [
              "       wt1  wt2  wt3  wt4  wt5  ko1  ko2  ko3  ko4  ko5\n",
              "gene1  838  812  790  861  850  683  681  688  667  674\n",
              "gene2  801  721  805  778  778  505  555  527  462  515\n",
              "gene3  807  769  854  789  763  527  517  530  491  462\n",
              "gene4  527  499  508  467  478  500  476  526  491  491\n",
              "gene5  372  379  370  416  369  621  598  617  617  605"
            ],
            "text/html": [
              "\n",
              "  <div id=\"df-61a0a889-62bb-4d27-80f9-b3d830f094ad\" class=\"colab-df-container\">\n",
              "    <div>\n",
              "<style scoped>\n",
              "    .dataframe tbody tr th:only-of-type {\n",
              "        vertical-align: middle;\n",
              "    }\n",
              "\n",
              "    .dataframe tbody tr th {\n",
              "        vertical-align: top;\n",
              "    }\n",
              "\n",
              "    .dataframe thead th {\n",
              "        text-align: right;\n",
              "    }\n",
              "</style>\n",
              "<table border=\"1\" class=\"dataframe\">\n",
              "  <thead>\n",
              "    <tr style=\"text-align: right;\">\n",
              "      <th></th>\n",
              "      <th>wt1</th>\n",
              "      <th>wt2</th>\n",
              "      <th>wt3</th>\n",
              "      <th>wt4</th>\n",
              "      <th>wt5</th>\n",
              "      <th>ko1</th>\n",
              "      <th>ko2</th>\n",
              "      <th>ko3</th>\n",
              "      <th>ko4</th>\n",
              "      <th>ko5</th>\n",
              "    </tr>\n",
              "  </thead>\n",
              "  <tbody>\n",
              "    <tr>\n",
              "      <th>gene1</th>\n",
              "      <td>838</td>\n",
              "      <td>812</td>\n",
              "      <td>790</td>\n",
              "      <td>861</td>\n",
              "      <td>850</td>\n",
              "      <td>683</td>\n",
              "      <td>681</td>\n",
              "      <td>688</td>\n",
              "      <td>667</td>\n",
              "      <td>674</td>\n",
              "    </tr>\n",
              "    <tr>\n",
              "      <th>gene2</th>\n",
              "      <td>801</td>\n",
              "      <td>721</td>\n",
              "      <td>805</td>\n",
              "      <td>778</td>\n",
              "      <td>778</td>\n",
              "      <td>505</td>\n",
              "      <td>555</td>\n",
              "      <td>527</td>\n",
              "      <td>462</td>\n",
              "      <td>515</td>\n",
              "    </tr>\n",
              "    <tr>\n",
              "      <th>gene3</th>\n",
              "      <td>807</td>\n",
              "      <td>769</td>\n",
              "      <td>854</td>\n",
              "      <td>789</td>\n",
              "      <td>763</td>\n",
              "      <td>527</td>\n",
              "      <td>517</td>\n",
              "      <td>530</td>\n",
              "      <td>491</td>\n",
              "      <td>462</td>\n",
              "    </tr>\n",
              "    <tr>\n",
              "      <th>gene4</th>\n",
              "      <td>527</td>\n",
              "      <td>499</td>\n",
              "      <td>508</td>\n",
              "      <td>467</td>\n",
              "      <td>478</td>\n",
              "      <td>500</td>\n",
              "      <td>476</td>\n",
              "      <td>526</td>\n",
              "      <td>491</td>\n",
              "      <td>491</td>\n",
              "    </tr>\n",
              "    <tr>\n",
              "      <th>gene5</th>\n",
              "      <td>372</td>\n",
              "      <td>379</td>\n",
              "      <td>370</td>\n",
              "      <td>416</td>\n",
              "      <td>369</td>\n",
              "      <td>621</td>\n",
              "      <td>598</td>\n",
              "      <td>617</td>\n",
              "      <td>617</td>\n",
              "      <td>605</td>\n",
              "    </tr>\n",
              "  </tbody>\n",
              "</table>\n",
              "</div>\n",
              "    <div class=\"colab-df-buttons\">\n",
              "\n",
              "  <div class=\"colab-df-container\">\n",
              "    <button class=\"colab-df-convert\" onclick=\"convertToInteractive('df-61a0a889-62bb-4d27-80f9-b3d830f094ad')\"\n",
              "            title=\"Convert this dataframe to an interactive table.\"\n",
              "            style=\"display:none;\">\n",
              "\n",
              "  <svg xmlns=\"http://www.w3.org/2000/svg\" height=\"24px\" viewBox=\"0 -960 960 960\">\n",
              "    <path d=\"M120-120v-720h720v720H120Zm60-500h600v-160H180v160Zm220 220h160v-160H400v160Zm0 220h160v-160H400v160ZM180-400h160v-160H180v160Zm440 0h160v-160H620v160ZM180-180h160v-160H180v160Zm440 0h160v-160H620v160Z\"/>\n",
              "  </svg>\n",
              "    </button>\n",
              "\n",
              "  <style>\n",
              "    .colab-df-container {\n",
              "      display:flex;\n",
              "      gap: 12px;\n",
              "    }\n",
              "\n",
              "    .colab-df-convert {\n",
              "      background-color: #E8F0FE;\n",
              "      border: none;\n",
              "      border-radius: 50%;\n",
              "      cursor: pointer;\n",
              "      display: none;\n",
              "      fill: #1967D2;\n",
              "      height: 32px;\n",
              "      padding: 0 0 0 0;\n",
              "      width: 32px;\n",
              "    }\n",
              "\n",
              "    .colab-df-convert:hover {\n",
              "      background-color: #E2EBFA;\n",
              "      box-shadow: 0px 1px 2px rgba(60, 64, 67, 0.3), 0px 1px 3px 1px rgba(60, 64, 67, 0.15);\n",
              "      fill: #174EA6;\n",
              "    }\n",
              "\n",
              "    .colab-df-buttons div {\n",
              "      margin-bottom: 4px;\n",
              "    }\n",
              "\n",
              "    [theme=dark] .colab-df-convert {\n",
              "      background-color: #3B4455;\n",
              "      fill: #D2E3FC;\n",
              "    }\n",
              "\n",
              "    [theme=dark] .colab-df-convert:hover {\n",
              "      background-color: #434B5C;\n",
              "      box-shadow: 0px 1px 3px 1px rgba(0, 0, 0, 0.15);\n",
              "      filter: drop-shadow(0px 1px 2px rgba(0, 0, 0, 0.3));\n",
              "      fill: #FFFFFF;\n",
              "    }\n",
              "  </style>\n",
              "\n",
              "    <script>\n",
              "      const buttonEl =\n",
              "        document.querySelector('#df-61a0a889-62bb-4d27-80f9-b3d830f094ad button.colab-df-convert');\n",
              "      buttonEl.style.display =\n",
              "        google.colab.kernel.accessAllowed ? 'block' : 'none';\n",
              "\n",
              "      async function convertToInteractive(key) {\n",
              "        const element = document.querySelector('#df-61a0a889-62bb-4d27-80f9-b3d830f094ad');\n",
              "        const dataTable =\n",
              "          await google.colab.kernel.invokeFunction('convertToInteractive',\n",
              "                                                    [key], {});\n",
              "        if (!dataTable) return;\n",
              "\n",
              "        const docLinkHtml = 'Like what you see? Visit the ' +\n",
              "          '<a target=\"_blank\" href=https://colab.research.google.com/notebooks/data_table.ipynb>data table notebook</a>'\n",
              "          + ' to learn more about interactive tables.';\n",
              "        element.innerHTML = '';\n",
              "        dataTable['output_type'] = 'display_data';\n",
              "        await google.colab.output.renderOutput(dataTable, element);\n",
              "        const docLink = document.createElement('div');\n",
              "        docLink.innerHTML = docLinkHtml;\n",
              "        element.appendChild(docLink);\n",
              "      }\n",
              "    </script>\n",
              "  </div>\n",
              "\n",
              "\n",
              "<div id=\"df-c89a4c38-828b-48e1-87c2-d059b56b4967\">\n",
              "  <button class=\"colab-df-quickchart\" onclick=\"quickchart('df-c89a4c38-828b-48e1-87c2-d059b56b4967')\"\n",
              "            title=\"Suggest charts\"\n",
              "            style=\"display:none;\">\n",
              "\n",
              "<svg xmlns=\"http://www.w3.org/2000/svg\" height=\"24px\"viewBox=\"0 0 24 24\"\n",
              "     width=\"24px\">\n",
              "    <g>\n",
              "        <path d=\"M19 3H5c-1.1 0-2 .9-2 2v14c0 1.1.9 2 2 2h14c1.1 0 2-.9 2-2V5c0-1.1-.9-2-2-2zM9 17H7v-7h2v7zm4 0h-2V7h2v10zm4 0h-2v-4h2v4z\"/>\n",
              "    </g>\n",
              "</svg>\n",
              "  </button>\n",
              "\n",
              "<style>\n",
              "  .colab-df-quickchart {\n",
              "      --bg-color: #E8F0FE;\n",
              "      --fill-color: #1967D2;\n",
              "      --hover-bg-color: #E2EBFA;\n",
              "      --hover-fill-color: #174EA6;\n",
              "      --disabled-fill-color: #AAA;\n",
              "      --disabled-bg-color: #DDD;\n",
              "  }\n",
              "\n",
              "  [theme=dark] .colab-df-quickchart {\n",
              "      --bg-color: #3B4455;\n",
              "      --fill-color: #D2E3FC;\n",
              "      --hover-bg-color: #434B5C;\n",
              "      --hover-fill-color: #FFFFFF;\n",
              "      --disabled-bg-color: #3B4455;\n",
              "      --disabled-fill-color: #666;\n",
              "  }\n",
              "\n",
              "  .colab-df-quickchart {\n",
              "    background-color: var(--bg-color);\n",
              "    border: none;\n",
              "    border-radius: 50%;\n",
              "    cursor: pointer;\n",
              "    display: none;\n",
              "    fill: var(--fill-color);\n",
              "    height: 32px;\n",
              "    padding: 0;\n",
              "    width: 32px;\n",
              "  }\n",
              "\n",
              "  .colab-df-quickchart:hover {\n",
              "    background-color: var(--hover-bg-color);\n",
              "    box-shadow: 0 1px 2px rgba(60, 64, 67, 0.3), 0 1px 3px 1px rgba(60, 64, 67, 0.15);\n",
              "    fill: var(--button-hover-fill-color);\n",
              "  }\n",
              "\n",
              "  .colab-df-quickchart-complete:disabled,\n",
              "  .colab-df-quickchart-complete:disabled:hover {\n",
              "    background-color: var(--disabled-bg-color);\n",
              "    fill: var(--disabled-fill-color);\n",
              "    box-shadow: none;\n",
              "  }\n",
              "\n",
              "  .colab-df-spinner {\n",
              "    border: 2px solid var(--fill-color);\n",
              "    border-color: transparent;\n",
              "    border-bottom-color: var(--fill-color);\n",
              "    animation:\n",
              "      spin 1s steps(1) infinite;\n",
              "  }\n",
              "\n",
              "  @keyframes spin {\n",
              "    0% {\n",
              "      border-color: transparent;\n",
              "      border-bottom-color: var(--fill-color);\n",
              "      border-left-color: var(--fill-color);\n",
              "    }\n",
              "    20% {\n",
              "      border-color: transparent;\n",
              "      border-left-color: var(--fill-color);\n",
              "      border-top-color: var(--fill-color);\n",
              "    }\n",
              "    30% {\n",
              "      border-color: transparent;\n",
              "      border-left-color: var(--fill-color);\n",
              "      border-top-color: var(--fill-color);\n",
              "      border-right-color: var(--fill-color);\n",
              "    }\n",
              "    40% {\n",
              "      border-color: transparent;\n",
              "      border-right-color: var(--fill-color);\n",
              "      border-top-color: var(--fill-color);\n",
              "    }\n",
              "    60% {\n",
              "      border-color: transparent;\n",
              "      border-right-color: var(--fill-color);\n",
              "    }\n",
              "    80% {\n",
              "      border-color: transparent;\n",
              "      border-right-color: var(--fill-color);\n",
              "      border-bottom-color: var(--fill-color);\n",
              "    }\n",
              "    90% {\n",
              "      border-color: transparent;\n",
              "      border-bottom-color: var(--fill-color);\n",
              "    }\n",
              "  }\n",
              "</style>\n",
              "\n",
              "  <script>\n",
              "    async function quickchart(key) {\n",
              "      const quickchartButtonEl =\n",
              "        document.querySelector('#' + key + ' button');\n",
              "      quickchartButtonEl.disabled = true;  // To prevent multiple clicks.\n",
              "      quickchartButtonEl.classList.add('colab-df-spinner');\n",
              "      try {\n",
              "        const charts = await google.colab.kernel.invokeFunction(\n",
              "            'suggestCharts', [key], {});\n",
              "      } catch (error) {\n",
              "        console.error('Error during call to suggestCharts:', error);\n",
              "      }\n",
              "      quickchartButtonEl.classList.remove('colab-df-spinner');\n",
              "      quickchartButtonEl.classList.add('colab-df-quickchart-complete');\n",
              "    }\n",
              "    (() => {\n",
              "      let quickchartButtonEl =\n",
              "        document.querySelector('#df-c89a4c38-828b-48e1-87c2-d059b56b4967 button');\n",
              "      quickchartButtonEl.style.display =\n",
              "        google.colab.kernel.accessAllowed ? 'block' : 'none';\n",
              "    })();\n",
              "  </script>\n",
              "</div>\n",
              "    </div>\n",
              "  </div>\n"
            ],
            "application/vnd.google.colaboratory.intrinsic+json": {
              "type": "dataframe",
              "variable_name": "data",
              "repr_error": "'str' object has no attribute 'empty'"
            }
          },
          "metadata": {},
          "execution_count": 46
        }
      ]
    },
    {
      "cell_type": "code",
      "source": [
        "scaled_data = preprocessing.scale(data.T)"
      ],
      "metadata": {
        "id": "0tyI3OrcNvIm"
      },
      "execution_count": null,
      "outputs": []
    },
    {
      "cell_type": "code",
      "source": [
        "pca = PCA()"
      ],
      "metadata": {
        "id": "Uep74z4dOC1K"
      },
      "execution_count": null,
      "outputs": []
    },
    {
      "cell_type": "code",
      "source": [
        "pca.fit(scaled_data)"
      ],
      "metadata": {
        "colab": {
          "base_uri": "https://localhost:8080/",
          "height": 74
        },
        "id": "4TgOkm0AOSXS",
        "outputId": "219cb649-f876-40ae-fe6e-1952ee2053fd"
      },
      "execution_count": null,
      "outputs": [
        {
          "output_type": "execute_result",
          "data": {
            "text/plain": [
              "PCA()"
            ],
            "text/html": [
              "<style>#sk-container-id-1 {color: black;background-color: white;}#sk-container-id-1 pre{padding: 0;}#sk-container-id-1 div.sk-toggleable {background-color: white;}#sk-container-id-1 label.sk-toggleable__label {cursor: pointer;display: block;width: 100%;margin-bottom: 0;padding: 0.3em;box-sizing: border-box;text-align: center;}#sk-container-id-1 label.sk-toggleable__label-arrow:before {content: \"▸\";float: left;margin-right: 0.25em;color: #696969;}#sk-container-id-1 label.sk-toggleable__label-arrow:hover:before {color: black;}#sk-container-id-1 div.sk-estimator:hover label.sk-toggleable__label-arrow:before {color: black;}#sk-container-id-1 div.sk-toggleable__content {max-height: 0;max-width: 0;overflow: hidden;text-align: left;background-color: #f0f8ff;}#sk-container-id-1 div.sk-toggleable__content pre {margin: 0.2em;color: black;border-radius: 0.25em;background-color: #f0f8ff;}#sk-container-id-1 input.sk-toggleable__control:checked~div.sk-toggleable__content {max-height: 200px;max-width: 100%;overflow: auto;}#sk-container-id-1 input.sk-toggleable__control:checked~label.sk-toggleable__label-arrow:before {content: \"▾\";}#sk-container-id-1 div.sk-estimator input.sk-toggleable__control:checked~label.sk-toggleable__label {background-color: #d4ebff;}#sk-container-id-1 div.sk-label input.sk-toggleable__control:checked~label.sk-toggleable__label {background-color: #d4ebff;}#sk-container-id-1 input.sk-hidden--visually {border: 0;clip: rect(1px 1px 1px 1px);clip: rect(1px, 1px, 1px, 1px);height: 1px;margin: -1px;overflow: hidden;padding: 0;position: absolute;width: 1px;}#sk-container-id-1 div.sk-estimator {font-family: monospace;background-color: #f0f8ff;border: 1px dotted black;border-radius: 0.25em;box-sizing: border-box;margin-bottom: 0.5em;}#sk-container-id-1 div.sk-estimator:hover {background-color: #d4ebff;}#sk-container-id-1 div.sk-parallel-item::after {content: \"\";width: 100%;border-bottom: 1px solid gray;flex-grow: 1;}#sk-container-id-1 div.sk-label:hover label.sk-toggleable__label {background-color: #d4ebff;}#sk-container-id-1 div.sk-serial::before {content: \"\";position: absolute;border-left: 1px solid gray;box-sizing: border-box;top: 0;bottom: 0;left: 50%;z-index: 0;}#sk-container-id-1 div.sk-serial {display: flex;flex-direction: column;align-items: center;background-color: white;padding-right: 0.2em;padding-left: 0.2em;position: relative;}#sk-container-id-1 div.sk-item {position: relative;z-index: 1;}#sk-container-id-1 div.sk-parallel {display: flex;align-items: stretch;justify-content: center;background-color: white;position: relative;}#sk-container-id-1 div.sk-item::before, #sk-container-id-1 div.sk-parallel-item::before {content: \"\";position: absolute;border-left: 1px solid gray;box-sizing: border-box;top: 0;bottom: 0;left: 50%;z-index: -1;}#sk-container-id-1 div.sk-parallel-item {display: flex;flex-direction: column;z-index: 1;position: relative;background-color: white;}#sk-container-id-1 div.sk-parallel-item:first-child::after {align-self: flex-end;width: 50%;}#sk-container-id-1 div.sk-parallel-item:last-child::after {align-self: flex-start;width: 50%;}#sk-container-id-1 div.sk-parallel-item:only-child::after {width: 0;}#sk-container-id-1 div.sk-dashed-wrapped {border: 1px dashed gray;margin: 0 0.4em 0.5em 0.4em;box-sizing: border-box;padding-bottom: 0.4em;background-color: white;}#sk-container-id-1 div.sk-label label {font-family: monospace;font-weight: bold;display: inline-block;line-height: 1.2em;}#sk-container-id-1 div.sk-label-container {text-align: center;}#sk-container-id-1 div.sk-container {/* jupyter's `normalize.less` sets `[hidden] { display: none; }` but bootstrap.min.css set `[hidden] { display: none !important; }` so we also need the `!important` here to be able to override the default hidden behavior on the sphinx rendered scikit-learn.org. See: https://github.com/scikit-learn/scikit-learn/issues/21755 */display: inline-block !important;position: relative;}#sk-container-id-1 div.sk-text-repr-fallback {display: none;}</style><div id=\"sk-container-id-1\" class=\"sk-top-container\"><div class=\"sk-text-repr-fallback\"><pre>PCA()</pre><b>In a Jupyter environment, please rerun this cell to show the HTML representation or trust the notebook. <br />On GitHub, the HTML representation is unable to render, please try loading this page with nbviewer.org.</b></div><div class=\"sk-container\" hidden><div class=\"sk-item\"><div class=\"sk-estimator sk-toggleable\"><input class=\"sk-toggleable__control sk-hidden--visually\" id=\"sk-estimator-id-1\" type=\"checkbox\" checked><label for=\"sk-estimator-id-1\" class=\"sk-toggleable__label sk-toggleable__label-arrow\">PCA</label><div class=\"sk-toggleable__content\"><pre>PCA()</pre></div></div></div></div></div>"
            ]
          },
          "metadata": {},
          "execution_count": 49
        }
      ]
    },
    {
      "cell_type": "code",
      "source": [
        "pca_data = pca.transform(scaled_data)"
      ],
      "metadata": {
        "id": "mw4Hz0hKOVkE"
      },
      "execution_count": null,
      "outputs": []
    },
    {
      "cell_type": "code",
      "source": [],
      "metadata": {
        "id": "ae0c3HSHO8XL"
      },
      "execution_count": null,
      "outputs": []
    },
    {
      "cell_type": "code",
      "source": [
        "per_var = np.round(pca.explained_variance_ratio_ *100, decimals=1)\n",
        "per_var"
      ],
      "metadata": {
        "colab": {
          "base_uri": "https://localhost:8080/"
        },
        "id": "-jYZdow9OfYR",
        "outputId": "cf13f55c-505d-4690-8fe4-f8b285e539bf"
      },
      "execution_count": null,
      "outputs": [
        {
          "output_type": "execute_result",
          "data": {
            "text/plain": [
              "array([89.1,  3. ,  2. ,  1.6,  1.4,  1.2,  0.8,  0.5,  0.4,  0. ])"
            ]
          },
          "metadata": {},
          "execution_count": 57
        }
      ]
    },
    {
      "cell_type": "code",
      "source": [
        "labels = [\"PC\" + str(i) for i in range(1, len(per_var) + 1)]\n",
        "\n",
        "# Assuming 'per_var' is already defined and contains the percentage of variance\n",
        "# for each principal component\n",
        "plt.bar(x=range(1, len(per_var) + 1), height=per_var)\n",
        "\n",
        "plt.xticks(range(1, len(per_var) + 1), labels)  # Set the x-axis tick labels\n",
        "plt.ylabel('Percentage of Explained Variance')  # Set the y-axis label\n",
        "plt.xlabel('Principal Component')  # Set the x-axis label\n",
        "plt.title('Scree Plot')  # Set the title of the plot\n",
        "\n",
        "plt.show()  # Display the plot\n"
      ],
      "metadata": {
        "colab": {
          "base_uri": "https://localhost:8080/",
          "height": 472
        },
        "id": "XhE9YpIbPDtJ",
        "outputId": "7ff1e376-ff2d-4ebb-e909-63ab68dece6b"
      },
      "execution_count": null,
      "outputs": [
        {
          "output_type": "display_data",
          "data": {
            "text/plain": [
              "<Figure size 640x480 with 1 Axes>"
            ],
            "image/png": "[encoded data removed]"
          },
          "metadata": {}
        }
      ]
    },
    {
      "cell_type": "code",
      "source": [
        "pca_df = pd.DataFrame(pca_data, index=[*wt,*ko], columns = labels)\n",
        "pca_df"
      ],
      "metadata": {
        "colab": {
          "base_uri": "https://localhost:8080/",
          "height": 363
        },
        "id": "h-sEMk-8Pwqa",
        "outputId": "3b17a151-a971-4195-e91c-76cb22252bc2"
      },
      "execution_count": null,
      "outputs": [
        {
          "output_type": "execute_result",
          "data": {
            "text/plain": [
              "          PC1       PC2       PC3       PC4       PC5       PC6       PC7  \\\n",
              "wt1 -9.534745 -2.871594  0.757426 -0.501347  0.984969  0.131526 -1.473009   \n",
              "wt2 -9.542043  0.429063 -1.086102 -0.408368  1.833114 -0.855838  0.058155   \n",
              "wt3 -9.212364 -2.074197  1.761757  0.408315 -1.182384  0.485633  1.626446   \n",
              "wt4 -9.627612  3.074377  0.502440  0.307210 -0.111296 -1.511164  0.349466   \n",
              "wt5 -9.262438  1.390027 -1.952607  0.125921 -1.599060  1.756354 -0.532253   \n",
              "ko1  9.267323 -0.680333 -1.938995  0.852882  1.531437  1.014452  0.997199   \n",
              "ko2  9.522167  0.341478  0.166218 -1.985042 -1.086307  0.086282 -0.632619   \n",
              "ko3  9.246044 -0.575240  0.113202  2.858360 -0.833368 -0.992792 -0.913145   \n",
              "ko4  9.316981  2.049866  2.543798 -0.137549  1.145525  1.251808 -0.090480   \n",
              "ko5  9.826687 -1.083448 -0.867137 -1.520382 -0.682630 -1.366263  0.610240   \n",
              "\n",
              "          PC8       PC9          PC10  \n",
              "wt1  0.357846 -0.643154  4.710999e-16  \n",
              "wt2 -0.754787  1.085707  3.252706e-16  \n",
              "wt3  0.024664  0.391091  2.797143e-16  \n",
              "wt4  0.909172 -0.620855  7.784820e-16  \n",
              "wt5 -0.565629 -0.217956  3.582191e-16  \n",
              "ko1  0.925436 -0.259801  5.290526e-16  \n",
              "ko2  1.066792  0.860732  3.911717e-16  \n",
              "ko3 -0.220137  0.332885  2.383682e-16  \n",
              "ko4 -0.752063 -0.183553 -7.571152e-17  \n",
              "ko5 -0.991292 -0.745096 -9.112314e-17  "
            ],
            "text/html": [
              "\n",
              "  <div id=\"df-c987e08e-0f55-4cef-be63-b9ffe043fb3e\" class=\"colab-df-container\">\n",
              "    <div>\n",
              "<style scoped>\n",
              "    .dataframe tbody tr th:only-of-type {\n",
              "        vertical-align: middle;\n",
              "    }\n",
              "\n",
              "    .dataframe tbody tr th {\n",
              "        vertical-align: top;\n",
              "    }\n",
              "\n",
              "    .dataframe thead th {\n",
              "        text-align: right;\n",
              "    }\n",
              "</style>\n",
              "<table border=\"1\" class=\"dataframe\">\n",
              "  <thead>\n",
              "    <tr style=\"text-align: right;\">\n",
              "      <th></th>\n",
              "      <th>PC1</th>\n",
              "      <th>PC2</th>\n",
              "      <th>PC3</th>\n",
              "      <th>PC4</th>\n",
              "      <th>PC5</th>\n",
              "      <th>PC6</th>\n",
              "      <th>PC7</th>\n",
              "      <th>PC8</th>\n",
              "      <th>PC9</th>\n",
              "      <th>PC10</th>\n",
              "    </tr>\n",
              "  </thead>\n",
              "  <tbody>\n",
              "    <tr>\n",
              "      <th>wt1</th>\n",
              "      <td>-9.534745</td>\n",
              "      <td>-2.871594</td>\n",
              "      <td>0.757426</td>\n",
              "      <td>-0.501347</td>\n",
              "      <td>0.984969</td>\n",
              "      <td>0.131526</td>\n",
              "      <td>-1.473009</td>\n",
              "      <td>0.357846</td>\n",
              "      <td>-0.643154</td>\n",
              "      <td>4.710999e-16</td>\n",
              "    </tr>\n",
              "    <tr>\n",
              "      <th>wt2</th>\n",
              "      <td>-9.542043</td>\n",
              "      <td>0.429063</td>\n",
              "      <td>-1.086102</td>\n",
              "      <td>-0.408368</td>\n",
              "      <td>1.833114</td>\n",
              "      <td>-0.855838</td>\n",
              "      <td>0.058155</td>\n",
              "      <td>-0.754787</td>\n",
              "      <td>1.085707</td>\n",
              "      <td>3.252706e-16</td>\n",
              "    </tr>\n",
              "    <tr>\n",
              "      <th>wt3</th>\n",
              "      <td>-9.212364</td>\n",
              "      <td>-2.074197</td>\n",
              "      <td>1.761757</td>\n",
              "      <td>0.408315</td>\n",
              "      <td>-1.182384</td>\n",
              "      <td>0.485633</td>\n",
              "      <td>1.626446</td>\n",
              "      <td>0.024664</td>\n",
              "      <td>0.391091</td>\n",
              "      <td>2.797143e-16</td>\n",
              "    </tr>\n",
              "    <tr>\n",
              "      <th>wt4</th>\n",
              "      <td>-9.627612</td>\n",
              "      <td>3.074377</td>\n",
              "      <td>0.502440</td>\n",
              "      <td>0.307210</td>\n",
              "      <td>-0.111296</td>\n",
              "      <td>-1.511164</td>\n",
              "      <td>0.349466</td>\n",
              "      <td>0.909172</td>\n",
              "      <td>-0.620855</td>\n",
              "      <td>7.784820e-16</td>\n",
              "    </tr>\n",
              "    <tr>\n",
              "      <th>wt5</th>\n",
              "      <td>-9.262438</td>\n",
              "      <td>1.390027</td>\n",
              "      <td>-1.952607</td>\n",
              "      <td>0.125921</td>\n",
              "      <td>-1.599060</td>\n",
              "      <td>1.756354</td>\n",
              "      <td>-0.532253</td>\n",
              "      <td>-0.565629</td>\n",
              "      <td>-0.217956</td>\n",
              "      <td>3.582191e-16</td>\n",
              "    </tr>\n",
              "    <tr>\n",
              "      <th>ko1</th>\n",
              "      <td>9.267323</td>\n",
              "      <td>-0.680333</td>\n",
              "      <td>-1.938995</td>\n",
              "      <td>0.852882</td>\n",
              "      <td>1.531437</td>\n",
              "      <td>1.014452</td>\n",
              "      <td>0.997199</td>\n",
              "      <td>0.925436</td>\n",
              "      <td>-0.259801</td>\n",
              "      <td>5.290526e-16</td>\n",
              "    </tr>\n",
              "    <tr>\n",
              "      <th>ko2</th>\n",
              "      <td>9.522167</td>\n",
              "      <td>0.341478</td>\n",
              "      <td>0.166218</td>\n",
              "      <td>-1.985042</td>\n",
              "      <td>-1.086307</td>\n",
              "      <td>0.086282</td>\n",
              "      <td>-0.632619</td>\n",
              "      <td>1.066792</td>\n",
              "      <td>0.860732</td>\n",
              "      <td>3.911717e-16</td>\n",
              "    </tr>\n",
              "    <tr>\n",
              "      <th>ko3</th>\n",
              "      <td>9.246044</td>\n",
              "      <td>-0.575240</td>\n",
              "      <td>0.113202</td>\n",
              "      <td>2.858360</td>\n",
              "      <td>-0.833368</td>\n",
              "      <td>-0.992792</td>\n",
              "      <td>-0.913145</td>\n",
              "      <td>-0.220137</td>\n",
              "      <td>0.332885</td>\n",
              "      <td>2.383682e-16</td>\n",
              "    </tr>\n",
              "    <tr>\n",
              "      <th>ko4</th>\n",
              "      <td>9.316981</td>\n",
              "      <td>2.049866</td>\n",
              "      <td>2.543798</td>\n",
              "      <td>-0.137549</td>\n",
              "      <td>1.145525</td>\n",
              "      <td>1.251808</td>\n",
              "      <td>-0.090480</td>\n",
              "      <td>-0.752063</td>\n",
              "      <td>-0.183553</td>\n",
              "      <td>-7.571152e-17</td>\n",
              "    </tr>\n",
              "    <tr>\n",
              "      <th>ko5</th>\n",
              "      <td>9.826687</td>\n",
              "      <td>-1.083448</td>\n",
              "      <td>-0.867137</td>\n",
              "      <td>-1.520382</td>\n",
              "      <td>-0.682630</td>\n",
              "      <td>-1.366263</td>\n",
              "      <td>0.610240</td>\n",
              "      <td>-0.991292</td>\n",
              "      <td>-0.745096</td>\n",
              "      <td>-9.112314e-17</td>\n",
              "    </tr>\n",
              "  </tbody>\n",
              "</table>\n",
              "</div>\n",
              "    <div class=\"colab-df-buttons\">\n",
              "\n",
              "  <div class=\"colab-df-container\">\n",
              "    <button class=\"colab-df-convert\" onclick=\"convertToInteractive('df-c987e08e-0f55-4cef-be63-b9ffe043fb3e')\"\n",
              "            title=\"Convert this dataframe to an interactive table.\"\n",
              "            style=\"display:none;\">\n",
              "\n",
              "  <svg xmlns=\"http://www.w3.org/2000/svg\" height=\"24px\" viewBox=\"0 -960 960 960\">\n",
              "    <path d=\"M120-120v-720h720v720H120Zm60-500h600v-160H180v160Zm220 220h160v-160H400v160Zm0 220h160v-160H400v160ZM180-400h160v-160H180v160Zm440 0h160v-160H620v160ZM180-180h160v-160H180v160Zm440 0h160v-160H620v160Z\"/>\n",
              "  </svg>\n",
              "    </button>\n",
              "\n",
              "  <style>\n",
              "    .colab-df-container {\n",
              "      display:flex;\n",
              "      gap: 12px;\n",
              "    }\n",
              "\n",
              "    .colab-df-convert {\n",
              "      background-color: #E8F0FE;\n",
              "      border: none;\n",
              "      border-radius: 50%;\n",
              "      cursor: pointer;\n",
              "      display: none;\n",
              "      fill: #1967D2;\n",
              "      height: 32px;\n",
              "      padding: 0 0 0 0;\n",
              "      width: 32px;\n",
              "    }\n",
              "\n",
              "    .colab-df-convert:hover {\n",
              "      background-color: #E2EBFA;\n",
              "      box-shadow: 0px 1px 2px rgba(60, 64, 67, 0.3), 0px 1px 3px 1px rgba(60, 64, 67, 0.15);\n",
              "      fill: #174EA6;\n",
              "    }\n",
              "\n",
              "    .colab-df-buttons div {\n",
              "      margin-bottom: 4px;\n",
              "    }\n",
              "\n",
              "    [theme=dark] .colab-df-convert {\n",
              "      background-color: #3B4455;\n",
              "      fill: #D2E3FC;\n",
              "    }\n",
              "\n",
              "    [theme=dark] .colab-df-convert:hover {\n",
              "      background-color: #434B5C;\n",
              "      box-shadow: 0px 1px 3px 1px rgba(0, 0, 0, 0.15);\n",
              "      filter: drop-shadow(0px 1px 2px rgba(0, 0, 0, 0.3));\n",
              "      fill: #FFFFFF;\n",
              "    }\n",
              "  </style>\n",
              "\n",
              "    <script>\n",
              "      const buttonEl =\n",
              "        document.querySelector('#df-c987e08e-0f55-4cef-be63-b9ffe043fb3e button.colab-df-convert');\n",
              "      buttonEl.style.display =\n",
              "        google.colab.kernel.accessAllowed ? 'block' : 'none';\n",
              "\n",
              "      async function convertToInteractive(key) {\n",
              "        const element = document.querySelector('#df-c987e08e-0f55-4cef-be63-b9ffe043fb3e');\n",
              "        const dataTable =\n",
              "          await google.colab.kernel.invokeFunction('convertToInteractive',\n",
              "                                                    [key], {});\n",
              "        if (!dataTable) return;\n",
              "\n",
              "        const docLinkHtml = 'Like what you see? Visit the ' +\n",
              "          '<a target=\"_blank\" href=https://colab.research.google.com/notebooks/data_table.ipynb>data table notebook</a>'\n",
              "          + ' to learn more about interactive tables.';\n",
              "        element.innerHTML = '';\n",
              "        dataTable['output_type'] = 'display_data';\n",
              "        await google.colab.output.renderOutput(dataTable, element);\n",
              "        const docLink = document.createElement('div');\n",
              "        docLink.innerHTML = docLinkHtml;\n",
              "        element.appendChild(docLink);\n",
              "      }\n",
              "    </script>\n",
              "  </div>\n",
              "\n",
              "\n",
              "<div id=\"df-3d0fe7bb-5627-433e-84b6-7d84e2f8cdfb\">\n",
              "  <button class=\"colab-df-quickchart\" onclick=\"quickchart('df-3d0fe7bb-5627-433e-84b6-7d84e2f8cdfb')\"\n",
              "            title=\"Suggest charts\"\n",
              "            style=\"display:none;\">\n",
              "\n",
              "<svg xmlns=\"http://www.w3.org/2000/svg\" height=\"24px\"viewBox=\"0 0 24 24\"\n",
              "     width=\"24px\">\n",
              "    <g>\n",
              "        <path d=\"M19 3H5c-1.1 0-2 .9-2 2v14c0 1.1.9 2 2 2h14c1.1 0 2-.9 2-2V5c0-1.1-.9-2-2-2zM9 17H7v-7h2v7zm4 0h-2V7h2v10zm4 0h-2v-4h2v4z\"/>\n",
              "    </g>\n",
              "</svg>\n",
              "  </button>\n",
              "\n",
              "<style>\n",
              "  .colab-df-quickchart {\n",
              "      --bg-color: #E8F0FE;\n",
              "      --fill-color: #1967D2;\n",
              "      --hover-bg-color: #E2EBFA;\n",
              "      --hover-fill-color: #174EA6;\n",
              "      --disabled-fill-color: #AAA;\n",
              "      --disabled-bg-color: #DDD;\n",
              "  }\n",
              "\n",
              "  [theme=dark] .colab-df-quickchart {\n",
              "      --bg-color: #3B4455;\n",
              "      --fill-color: #D2E3FC;\n",
              "      --hover-bg-color: #434B5C;\n",
              "      --hover-fill-color: #FFFFFF;\n",
              "      --disabled-bg-color: #3B4455;\n",
              "      --disabled-fill-color: #666;\n",
              "  }\n",
              "\n",
              "  .colab-df-quickchart {\n",
              "    background-color: var(--bg-color);\n",
              "    border: none;\n",
              "    border-radius: 50%;\n",
              "    cursor: pointer;\n",
              "    display: none;\n",
              "    fill: var(--fill-color);\n",
              "    height: 32px;\n",
              "    padding: 0;\n",
              "    width: 32px;\n",
              "  }\n",
              "\n",
              "  .colab-df-quickchart:hover {\n",
              "    background-color: var(--hover-bg-color);\n",
              "    box-shadow: 0 1px 2px rgba(60, 64, 67, 0.3), 0 1px 3px 1px rgba(60, 64, 67, 0.15);\n",
              "    fill: var(--button-hover-fill-color);\n",
              "  }\n",
              "\n",
              "  .colab-df-quickchart-complete:disabled,\n",
              "  .colab-df-quickchart-complete:disabled:hover {\n",
              "    background-color: var(--disabled-bg-color);\n",
              "    fill: var(--disabled-fill-color);\n",
              "    box-shadow: none;\n",
              "  }\n",
              "\n",
              "  .colab-df-spinner {\n",
              "    border: 2px solid var(--fill-color);\n",
              "    border-color: transparent;\n",
              "    border-bottom-color: var(--fill-color);\n",
              "    animation:\n",
              "      spin 1s steps(1) infinite;\n",
              "  }\n",
              "\n",
              "  @keyframes spin {\n",
              "    0% {\n",
              "      border-color: transparent;\n",
              "      border-bottom-color: var(--fill-color);\n",
              "      border-left-color: var(--fill-color);\n",
              "    }\n",
              "    20% {\n",
              "      border-color: transparent;\n",
              "      border-left-color: var(--fill-color);\n",
              "      border-top-color: var(--fill-color);\n",
              "    }\n",
              "    30% {\n",
              "      border-color: transparent;\n",
              "      border-left-color: var(--fill-color);\n",
              "      border-top-color: var(--fill-color);\n",
              "      border-right-color: var(--fill-color);\n",
              "    }\n",
              "    40% {\n",
              "      border-color: transparent;\n",
              "      border-right-color: var(--fill-color);\n",
              "      border-top-color: var(--fill-color);\n",
              "    }\n",
              "    60% {\n",
              "      border-color: transparent;\n",
              "      border-right-color: var(--fill-color);\n",
              "    }\n",
              "    80% {\n",
              "      border-color: transparent;\n",
              "      border-right-color: var(--fill-color);\n",
              "      border-bottom-color: var(--fill-color);\n",
              "    }\n",
              "    90% {\n",
              "      border-color: transparent;\n",
              "      border-bottom-color: var(--fill-color);\n",
              "    }\n",
              "  }\n",
              "</style>\n",
              "\n",
              "  <script>\n",
              "    async function quickchart(key) {\n",
              "      const quickchartButtonEl =\n",
              "        document.querySelector('#' + key + ' button');\n",
              "      quickchartButtonEl.disabled = true;  // To prevent multiple clicks.\n",
              "      quickchartButtonEl.classList.add('colab-df-spinner');\n",
              "      try {\n",
              "        const charts = await google.colab.kernel.invokeFunction(\n",
              "            'suggestCharts', [key], {});\n",
              "      } catch (error) {\n",
              "        console.error('Error during call to suggestCharts:', error);\n",
              "      }\n",
              "      quickchartButtonEl.classList.remove('colab-df-spinner');\n",
              "      quickchartButtonEl.classList.add('colab-df-quickchart-complete');\n",
              "    }\n",
              "    (() => {\n",
              "      let quickchartButtonEl =\n",
              "        document.querySelector('#df-3d0fe7bb-5627-433e-84b6-7d84e2f8cdfb button');\n",
              "      quickchartButtonEl.style.display =\n",
              "        google.colab.kernel.accessAllowed ? 'block' : 'none';\n",
              "    })();\n",
              "  </script>\n",
              "</div>\n",
              "    </div>\n",
              "  </div>\n"
            ],
            "application/vnd.google.colaboratory.intrinsic+json": {
              "type": "dataframe",
              "variable_name": "pca_df",
              "summary": "{\n  \"name\": \"pca_df\",\n  \"rows\": 10,\n  \"fields\": [\n    {\n      \"column\": \"PC1\",\n      \"properties\": {\n        \"dtype\": \"number\",\n        \"std\": 9.948352437668836,\n        \"min\": -9.627611686371036,\n        \"max\": 9.826686527122577,\n        \"num_unique_values\": 10,\n        \"samples\": [\n          9.3169814707707,\n          -9.54204309345035,\n          9.267322730918256\n        ],\n        \"semantic_type\": \"\",\n        \"description\": \"\"\n      }\n    },\n    {\n      \"column\": \"PC2\",\n      \"properties\": {\n        \"dtype\": \"number\",\n        \"std\": 1.8379511802575619,\n        \"min\": -2.871593915687883,\n        \"max\": 3.07437723654207,\n        \"num_unique_values\": 10,\n        \"samples\": [\n          2.0498656039848693,\n          0.42906311861776314,\n          -0.6803326738061035\n        ],\n        \"semantic_type\": \"\",\n        \"description\": \"\"\n      }\n    },\n    {\n      \"column\": \"PC3\",\n      \"properties\": {\n        \"dtype\": \"number\",\n        \"std\": 1.4886684197605446,\n        \"min\": -1.9526071575261663,\n        \"max\": 2.5437982070045106,\n        \"num_unique_values\": 10,\n        \"samples\": [\n          2.5437982070045106,\n          -1.0861024480049315,\n          -1.9389952621915463\n        ],\n        \"semantic_type\": \"\",\n        \"description\": \"\"\n      }\n    },\n    {\n      \"column\": \"PC4\",\n      \"properties\": {\n        \"dtype\": \"number\",\n        \"std\": 1.3276367569526613,\n        \"min\": -1.9850420135979137,\n        \"max\": 2.858360257008107,\n        \"num_unique_values\": 10,\n        \"samples\": [\n          -0.13754904933425985,\n          -0.4083684652478267,\n          0.8528823665593557\n        ],\n        \"semantic_type\": \"\",\n        \"description\": \"\"\n      }\n    },\n    {\n      \"column\": \"PC5\",\n      \"properties\": {\n        \"dtype\": \"number\",\n        \"std\": 1.260333254268391,\n        \"min\": -1.5990603546211721,\n        \"max\": 1.8331144908463008,\n        \"num_unique_values\": 10,\n        \"samples\": [\n          1.1455246529218197,\n          1.8331144908463008,\n          1.5314374088152898\n        ],\n        \"semantic_type\": \"\",\n        \"description\": \"\"\n      }\n    },\n    {\n      \"column\": \"PC6\",\n      \"properties\": {\n        \"dtype\": \"number\",\n        \"std\": 1.145517136677206,\n        \"min\": -1.5111636840041625,\n        \"max\": 1.7563539450785093,\n        \"num_unique_values\": 10,\n        \"samples\": [\n          1.25180842145598,\n          -0.8558375075782512,\n          1.0144524874221497\n        ],\n        \"semantic_type\": \"\",\n        \"description\": \"\"\n      }\n    },\n    {\n      \"column\": \"PC7\",\n      \"properties\": {\n        \"dtype\": \"number\",\n        \"std\": 0.9329111351976647,\n        \"min\": -1.4730092830170054,\n        \"max\": 1.6264460706789636,\n        \"num_unique_values\": 10,\n        \"samples\": [\n          -0.0904797491130772,\n          0.0581551494753872,\n          0.9971988639876915\n        ],\n        \"semantic_type\": \"\",\n        \"description\": \"\"\n      }\n    },\n    {\n      \"column\": \"PC8\",\n      \"properties\": {\n        \"dtype\": \"number\",\n        \"std\": 0.7771808819302788,\n        \"min\": -0.9912924843873495,\n        \"max\": 1.066791533004977,\n        \"num_unique_values\": 10,\n        \"samples\": [\n          -0.7520628019256975,\n          -0.7547873577992168,\n          0.9254360222271864\n        ],\n        \"semantic_type\": \"\",\n        \"description\": \"\"\n      }\n    },\n    {\n      \"column\": \"PC9\",\n      \"properties\": {\n        \"dtype\": \"number\",\n        \"std\": 0.6399957749670717,\n        \"min\": -0.7450955688059971,\n        \"max\": 1.0857066010591871,\n        \"num_unique_values\": 10,\n        \"samples\": [\n          -0.1835531488177779,\n          1.0857066010591871,\n          -0.2598006825261893\n        ],\n        \"semantic_type\": \"\",\n        \"description\": \"\"\n      }\n    },\n    {\n      \"column\": \"PC10\",\n      \"properties\": {\n        \"dtype\": \"number\",\n        \"std\": 2.618710956218452e-16,\n        \"min\": -9.112313650240102e-17,\n        \"max\": 7.784819919070933e-16,\n        \"num_unique_values\": 10,\n        \"samples\": [\n          -7.571151532336506e-17,\n          3.2527061607552097e-16,\n          5.290525642277919e-16\n        ],\n        \"semantic_type\": \"\",\n        \"description\": \"\"\n      }\n    }\n  ]\n}"
            }
          },
          "metadata": {},
          "execution_count": 56
        }
      ]
    },
    {
      "cell_type": "code",
      "source": [
        "plt.scatter(pca_df.PC1, pca_df.PC2)\n",
        "plt.title(\"PCA Graph\")\n",
        "plt.xlabel(f'PC1 - {per_var[0]}')\n",
        "plt.ylabel(f'PC2 - {per_var[1]}')\n",
        "for sample in pca_df.index:\n",
        "  plt.annotate(sample,(pca_df.PC1.loc[sample], pca_df.PC2.loc[sample]))"
      ],
      "metadata": {
        "colab": {
          "base_uri": "https://localhost:8080/",
          "height": 472
        },
        "id": "37pHnnNKQU3g",
        "outputId": "697a64d9-aa7c-47e4-fbcf-44d8eaef17ac"
      },
      "execution_count": null,
      "outputs": [
        {
          "output_type": "display_data",
          "data": {
            "text/plain": [
              "<Figure size 640x480 with 1 Axes>"
            ],
            "image/png": "[encoded data removed]"
          },
          "metadata": {}
        }
      ]
    },
    {
      "cell_type": "code",
      "source": [
        "pd.set_option('display.max_rows', None)"
      ],
      "metadata": {
        "id": "rSc3ffrVRx6X"
      },
      "execution_count": null,
      "outputs": []
    },
    {
      "cell_type": "code",
      "source": [
        "load_scores = pd.Series(pca.components_[0], index=genes)\n",
        "load_scores"
      ],
      "metadata": {
        "colab": {
          "base_uri": "https://localhost:8080/"
        },
        "id": "EWL5hVskRXzG",
        "outputId": "d97e88d7-830f-44c0-95ac-b6f50b2c7d7a"
      },
      "execution_count": null,
      "outputs": [
        {
          "output_type": "execute_result",
          "data": {
            "text/plain": [
              "gene1     -0.102936\n",
              "gene2     -0.103103\n",
              "gene3     -0.103927\n",
              "gene4      0.002321\n",
              "gene5      0.104998\n",
              "gene6     -0.100791\n",
              "gene7      0.105570\n",
              "gene8      0.105925\n",
              "gene9     -0.104000\n",
              "gene10    -0.105707\n",
              "gene11    -0.105815\n",
              "gene12    -0.105822\n",
              "gene13     0.104646\n",
              "gene14     0.105264\n",
              "gene15     0.105586\n",
              "gene16     0.105550\n",
              "gene17    -0.086103\n",
              "gene18    -0.105876\n",
              "gene19    -0.103370\n",
              "gene20     0.103191\n",
              "gene21    -0.105476\n",
              "gene22    -0.105470\n",
              "gene23    -0.105042\n",
              "gene24    -0.105717\n",
              "gene25     0.105601\n",
              "gene26    -0.105018\n",
              "gene27     0.105485\n",
              "gene28     0.090025\n",
              "gene29    -0.093072\n",
              "gene30     0.105506\n",
              "gene31    -0.104947\n",
              "gene32    -0.071449\n",
              "gene33     0.105635\n",
              "gene34    -0.105113\n",
              "gene35     0.103301\n",
              "gene36    -0.101007\n",
              "gene37     0.090661\n",
              "gene38    -0.017677\n",
              "gene39     0.105344\n",
              "gene40    -0.105679\n",
              "gene41    -0.095508\n",
              "gene42     0.105334\n",
              "gene43    -0.104169\n",
              "gene44     0.105719\n",
              "gene45     0.105780\n",
              "gene46    -0.094863\n",
              "gene47    -0.105557\n",
              "gene48     0.105846\n",
              "gene49    -0.099550\n",
              "gene50    -0.103582\n",
              "gene51     0.105906\n",
              "gene52     0.104603\n",
              "gene53     0.105672\n",
              "gene54     0.105751\n",
              "gene55    -0.105609\n",
              "gene56    -0.100715\n",
              "gene57     0.099500\n",
              "gene58    -0.095426\n",
              "gene59     0.104890\n",
              "gene60     0.105735\n",
              "gene61     0.105817\n",
              "gene62    -0.103470\n",
              "gene63    -0.105891\n",
              "gene64     0.103940\n",
              "gene65    -0.060329\n",
              "gene66    -0.104862\n",
              "gene67    -0.102914\n",
              "gene68     0.105692\n",
              "gene69     0.104838\n",
              "gene70     0.089884\n",
              "gene71     0.105796\n",
              "gene72     0.072963\n",
              "gene73    -0.105567\n",
              "gene74     0.105524\n",
              "gene75     0.105196\n",
              "gene76    -0.092071\n",
              "gene77    -0.103195\n",
              "gene78    -0.100921\n",
              "gene79     0.103852\n",
              "gene80    -0.091324\n",
              "gene81     0.104502\n",
              "gene82    -0.100318\n",
              "gene83     0.102745\n",
              "gene84    -0.057871\n",
              "gene85    -0.048501\n",
              "gene86    -0.105531\n",
              "gene87     0.105022\n",
              "gene88    -0.105530\n",
              "gene89    -0.105657\n",
              "gene90    -0.105655\n",
              "gene91     0.105638\n",
              "gene92    -0.094304\n",
              "gene93     0.019731\n",
              "gene94    -0.105671\n",
              "gene95    -0.105716\n",
              "gene96     0.105861\n",
              "gene97    -0.102080\n",
              "gene98     0.102392\n",
              "gene99    -0.105500\n",
              "gene100    0.105357\n",
              "dtype: float64"
            ]
          },
          "metadata": {},
          "execution_count": 61
        }
      ]
    },
    {
      "cell_type": "code",
      "source": [
        "sorted_loading_scores = load_scores.abs().sort_values(ascending=False)\n",
        "top_10_genes = sorted_loading_scores[0:10].index.values\n",
        "print(load_scores[top_10_genes])"
      ],
      "metadata": {
        "colab": {
          "base_uri": "https://localhost:8080/"
        },
        "id": "Q6GwO6fYSj9e",
        "outputId": "69bfb5de-144d-4071-f351-392adfc51e53"
      },
      "execution_count": null,
      "outputs": [
        {
          "output_type": "stream",
          "name": "stdout",
          "text": [
            "gene8     0.105925\n",
            "gene51    0.105906\n",
            "gene63   -0.105891\n",
            "gene18   -0.105876\n",
            "gene96    0.105861\n",
            "gene48    0.105846\n",
            "gene12   -0.105822\n",
            "gene61    0.105817\n",
            "gene11   -0.105815\n",
            "gene71    0.105796\n",
            "dtype: float64\n"
          ]
        }
      ]
    }
  ]
}